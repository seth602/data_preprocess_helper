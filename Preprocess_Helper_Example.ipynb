{
 "cells": [
  {
   "cell_type": "markdown",
   "id": "3b023ba5-cc36-442b-a594-b7c1002117b7",
   "metadata": {},
   "source": [
    "# Please use this notebook to load in your own data to test out the preprocess helper!"
   ]
  },
  {
   "cell_type": "code",
   "execution_count": 1,
   "id": "f376b20c-88e7-4fcd-8c58-a75d4b39a8db",
   "metadata": {},
   "outputs": [],
   "source": [
    "from preprocess_help import DataPreProcess\n",
    "\n",
    "import pandas as pd\n",
    "import matplotlib.pyplot as plt\n",
    "import numpy as np\n",
    "import warnings\n",
    "import pickle\n",
    "import seaborn as sns"
   ]
  },
  {
   "cell_type": "markdown",
   "id": "b5dc8657-fe18-475c-a323-6f48f7b5272c",
   "metadata": {},
   "source": [
    "#### Load your data"
   ]
  },
  {
   "cell_type": "code",
   "execution_count": 2,
   "id": "d3fe3865-943d-4c2b-aef3-af588d7a3b3b",
   "metadata": {},
   "outputs": [
    {
     "name": "stdout",
     "output_type": "stream",
     "text": [
      "(344, 7)\n"
     ]
    },
    {
     "data": {
      "text/html": [
       "<div>\n",
       "<style scoped>\n",
       "    .dataframe tbody tr th:only-of-type {\n",
       "        vertical-align: middle;\n",
       "    }\n",
       "\n",
       "    .dataframe tbody tr th {\n",
       "        vertical-align: top;\n",
       "    }\n",
       "\n",
       "    .dataframe thead th {\n",
       "        text-align: right;\n",
       "    }\n",
       "</style>\n",
       "<table border=\"1\" class=\"dataframe\">\n",
       "  <thead>\n",
       "    <tr style=\"text-align: right;\">\n",
       "      <th></th>\n",
       "      <th>species</th>\n",
       "      <th>island</th>\n",
       "      <th>bill_length_mm</th>\n",
       "      <th>bill_depth_mm</th>\n",
       "      <th>flipper_length_mm</th>\n",
       "      <th>body_mass_g</th>\n",
       "      <th>sex</th>\n",
       "    </tr>\n",
       "  </thead>\n",
       "  <tbody>\n",
       "    <tr>\n",
       "      <th>0</th>\n",
       "      <td>Adelie</td>\n",
       "      <td>Torgersen</td>\n",
       "      <td>39.1</td>\n",
       "      <td>18.7</td>\n",
       "      <td>181.0</td>\n",
       "      <td>3750.0</td>\n",
       "      <td>Male</td>\n",
       "    </tr>\n",
       "    <tr>\n",
       "      <th>1</th>\n",
       "      <td>Adelie</td>\n",
       "      <td>Torgersen</td>\n",
       "      <td>39.5</td>\n",
       "      <td>17.4</td>\n",
       "      <td>186.0</td>\n",
       "      <td>3800.0</td>\n",
       "      <td>Female</td>\n",
       "    </tr>\n",
       "    <tr>\n",
       "      <th>2</th>\n",
       "      <td>Adelie</td>\n",
       "      <td>Torgersen</td>\n",
       "      <td>40.3</td>\n",
       "      <td>18.0</td>\n",
       "      <td>195.0</td>\n",
       "      <td>3250.0</td>\n",
       "      <td>Female</td>\n",
       "    </tr>\n",
       "  </tbody>\n",
       "</table>\n",
       "</div>"
      ],
      "text/plain": [
       "  species     island  bill_length_mm  bill_depth_mm  flipper_length_mm  \\\n",
       "0  Adelie  Torgersen            39.1           18.7              181.0   \n",
       "1  Adelie  Torgersen            39.5           17.4              186.0   \n",
       "2  Adelie  Torgersen            40.3           18.0              195.0   \n",
       "\n",
       "   body_mass_g     sex  \n",
       "0       3750.0    Male  \n",
       "1       3800.0  Female  \n",
       "2       3250.0  Female  "
      ]
     },
     "execution_count": 2,
     "metadata": {},
     "output_type": "execute_result"
    }
   ],
   "source": [
    "#my_df = pd.read_csv(\"PUT YOUR FILENAME HERE\") # LOAD YOUR DATA HERE!\n",
    "my_df = sns.load_dataset('penguins')\n",
    "print(my_df.shape)\n",
    "my_df.head(3)"
   ]
  },
  {
   "cell_type": "markdown",
   "id": "2d792457-e2a1-4ee6-be1f-80072eb24fb3",
   "metadata": {},
   "source": [
    "#### Initialize the class"
   ]
  },
  {
   "cell_type": "code",
   "execution_count": 3,
   "id": "4d5be7d5-cf3a-4ed5-b482-d23e02f99cd8",
   "metadata": {},
   "outputs": [],
   "source": [
    "preprocessor = DataPreProcess(my_df) # pass in your data frame"
   ]
  },
  {
   "cell_type": "markdown",
   "id": "0588b95e-959f-41d5-99a5-00ca59cc2adc",
   "metadata": {},
   "source": [
    "#### Use the \"process_columns\" method to step through each column and decide what to do with it\n",
    "options are: ['skip', 'id', 'response', 'float', 'category', 'binary', 'ordinal', 'other']\n",
    "* **skip**: this is for columns you don't want to use in your pipeline or modeling\n",
    "* **id**: id columns will not be used in your pipeline TODO: these are meant to be saved for use later if needed to match back to original data.\n",
    "* **response**: if chosen you'll have the option to keep the response as a float, string, or one-hot encode this TODO: do the transformation and return in another method\n",
    "* **float**: if chosen you will have the option to view what the yeo-johnson transformation looks like and then choose if you want this column transformed in the preprocessing pipeline\n",
    "* **category**: this will one-hot encode the column in the pipeline. TODO: allow option to keep as string (ex when using a tree-based method that allows categories)\n",
    "* **binary**: this will treat the column like a normal float column. TODO: are there any special treatments for binary variables?\n",
    "* **ordinal**: at the moment it will treat it like a float. TODO: look into any special treatments for ordinal variables?\n",
    "* **other**: this will ignore the column in the pipeline. TODO: let the data scientist review the 'other' columns again later"
   ]
  },
  {
   "cell_type": "code",
   "execution_count": 4,
   "id": "ee06422c-2efe-4f38-86a0-b1d840ed03c2",
   "metadata": {},
   "outputs": [
    {
     "name": "stdout",
     "output_type": "stream",
     "text": [
      "_____________________________\n",
      "Pre-processing selection\n",
      "\n",
      "100%\t[\u001b[5;37;42m                                                  \u001b[0m] 7/7 columns\n",
      "\n",
      "\n",
      "*** sex *** \n",
      "\n",
      "\n",
      "count      333\n",
      "unique       2\n",
      "top       Male\n",
      "freq       168\n",
      "Name: sex, dtype: object\n",
      "\u001b[5;30;42m11 (3%) number of NAs\u001b[0m\n"
     ]
    },
    {
     "name": "stdin",
     "output_type": "stream",
     "text": [
      "\n",
      "Do you want to see the distribution? (yes/[no]) \n",
      " yes\n"
     ]
    },
    {
     "data": {
      "image/png": "[encoded data removed]",
      "text/plain": [
       "<Figure size 640x480 with 1 Axes>"
      ]
     },
     "metadata": {},
     "output_type": "display_data"
    },
    {
     "name": "stdin",
     "output_type": "stream",
     "text": [
      "\n",
      "What type of data should this be? Options are: ['skip', 'id', 'response', 'float', 'category', 'binary', 'ordinal', 'other']\n",
      " category\n"
     ]
    },
    {
     "name": "stdout",
     "output_type": "stream",
     "text": [
      "sex will be used as a categorical feature\n",
      "\n",
      "DONE :)\n",
      "***********\n"
     ]
    }
   ],
   "source": [
    "preprocessor.process_columns()"
   ]
  },
  {
   "cell_type": "code",
   "execution_count": 5,
   "id": "0e136656-aa5e-41ba-814a-4b7411227fc4",
   "metadata": {},
   "outputs": [
    {
     "name": "stdout",
     "output_type": "stream",
     "text": [
      "_____________________________\n",
      "Pre-processing selection\n",
      "\n",
      "100%\t[\u001b[5;37;42m                                                  \u001b[0m] 1/1 columns\n",
      "\n",
      "\n",
      "*** body_mass_g *** \n",
      "\n",
      "\n",
      "count     342.000000\n",
      "mean     4201.754386\n",
      "std       801.954536\n",
      "min      2700.000000\n",
      "25%      3550.000000\n",
      "50%      4050.000000\n",
      "75%      4750.000000\n",
      "max      6300.000000\n",
      "Name: body_mass_g, dtype: float64\n",
      "\u001b[5;30;42m2 (1%) number of NAs\u001b[0m\n"
     ]
    },
    {
     "name": "stdin",
     "output_type": "stream",
     "text": [
      "\n",
      "Do you want to see the distribution? (yes/[no]) \n",
      " yes\n"
     ]
    },
    {
     "data": {
      "image/png": "[encoded data removed]",
      "text/plain": [
       "<Figure size 640x480 with 1 Axes>"
      ]
     },
     "metadata": {},
     "output_type": "display_data"
    },
    {
     "name": "stdin",
     "output_type": "stream",
     "text": [
      "\n",
      "What type of data should this be? Options are: ['skip', 'id', 'response', 'float', 'category', 'binary', 'ordinal', 'other']\n",
      " float\n",
      "body_mass_g is floating point, do you want to check transformations? (yes/[no])  yes\n"
     ]
    },
    {
     "data": {
      "image/png": "[encoded data removed]",
      "text/plain": [
       "<Figure size 1000x1000 with 6 Axes>"
      ]
     },
     "metadata": {},
     "output_type": "display_data"
    },
    {
     "name": "stdout",
     "output_type": "stream",
     "text": [
      "Best option is: box-cox, which has skew of [0.02602579]\n",
      "\n"
     ]
    },
    {
     "name": "stdin",
     "output_type": "stream",
     "text": [
      "Which transformation do you want to make? ('yeojohnson', 'box-cox', 'log1p', 'square root', [none])  \n"
     ]
    },
    {
     "name": "stdout",
     "output_type": "stream",
     "text": [
      "\n",
      "DONE :)\n",
      "***********\n"
     ]
    }
   ],
   "source": [
    "# process or update a single column\n",
    "preprocessor.process_columns('body_mass_g')"
   ]
  },
  {
   "cell_type": "code",
   "execution_count": 6,
   "id": "cedb8789-46db-4ba5-8d9b-949bb9bb3553",
   "metadata": {},
   "outputs": [
    {
     "data": {
      "text/plain": [
       "{'bill_length_mm': 'none',\n",
       " 'bill_depth_mm': 'none',\n",
       " 'flipper_length_mm': 'box-cox',\n",
       " 'body_mass_g': 'none'}"
      ]
     },
     "execution_count": 6,
     "metadata": {},
     "output_type": "execute_result"
    }
   ],
   "source": [
    "preprocessor.skew_transformer"
   ]
  },
  {
   "cell_type": "markdown",
   "id": "b1743581-05a0-4621-b6cb-8dffddf85e3a",
   "metadata": {},
   "source": [
    "#### Create the pipeline. this will create the pipeline framework that fits the decisions made above"
   ]
  },
  {
   "cell_type": "code",
   "execution_count": 7,
   "id": "29a05230-577d-49ac-a531-6acda5dc8925",
   "metadata": {},
   "outputs": [
    {
     "name": "stdin",
     "output_type": "stream",
     "text": [
      "\n",
      "How do you want to treat category variables? Options are:\n",
      "['One-hot encoding', 'leave as string']\n",
      " leave as string\n"
     ]
    }
   ],
   "source": [
    "preprocessor.create_pipeline() # this will create the pipeline with the steps that fit your decisions above"
   ]
  },
  {
   "cell_type": "markdown",
   "id": "13faecec-8c5e-4c66-9389-b4b3c9a50783",
   "metadata": {},
   "source": [
    "#### Fit the pipeline with data. If no dataframe is passed, it will use the original dataframe seen above. Or you can do your test/train split and then pass your training dataframe to fit the pipeline. \n",
    "\n",
    "As long as the columns have the same name, there is no need to specify which columns to keep because you've already decided what to do with them. You can pass the whole dataframe"
   ]
  },
  {
   "cell_type": "code",
   "execution_count": 8,
   "id": "09e83e5b-7ed5-48a8-aaec-71e2513f8e77",
   "metadata": {},
   "outputs": [],
   "source": [
    "from sklearn.model_selection import train_test_split\n",
    "\n",
    "y = preprocessor.return_response_values() # use the class to return the response column you specified. if not specified, just prints message\n",
    "\n",
    "X_train, X_test, y_train, y_test = train_test_split(my_df, y, test_size=0.33, random_state=42)"
   ]
  },
  {
   "cell_type": "code",
   "execution_count": 9,
   "id": "5c252b29-0328-4bc2-b1a8-8d7674dc9b2a",
   "metadata": {},
   "outputs": [
    {
     "data": {
      "text/plain": [
       "['bill_length_mm', 'bill_depth_mm', 'flipper_length_mm', 'body_mass_g']"
      ]
     },
     "execution_count": 9,
     "metadata": {},
     "output_type": "execute_result"
    }
   ],
   "source": [
    "preprocessor.float_cols"
   ]
  },
  {
   "cell_type": "code",
   "execution_count": null,
   "id": "217e437e-27ce-48b5-87fb-b5a760c758ec",
   "metadata": {},
   "outputs": [],
   "source": []
  },
  {
   "cell_type": "code",
   "execution_count": 10,
   "id": "a9cf7a11-35ea-48cf-a303-024f0bbc7c5d",
   "metadata": {},
   "outputs": [
    {
     "name": "stdout",
     "output_type": "stream",
     "text": [
      "[Pipeline] ... (step 1 of 7) Processing numeric_capping, total=   0.0s\n",
      "[Pipeline]  (step 2 of 7) Processing numeric_imputation, total=   0.0s\n",
      "[Pipeline]  (step 3 of 7) Processing category_null_value, total=   0.0s\n",
      "[Pipeline]  (step 4 of 7) Processing rare_level_grouping, total=   0.0s\n",
      "[Pipeline] .... (step 5 of 7) Processing nominal_encode, total=   0.0s\n",
      "[Pipeline]  (step 6 of 7) Processing float transformers, total=   0.1s\n",
      "[Pipeline] ............ (step 7 of 7) Processing minmax, total=   0.0s\n"
     ]
    }
   ],
   "source": [
    "#preprocessor.fit_pipeline() # fit the pipeline. if no dataframe is passed it will fit on the orinigal dataframe\n",
    "preprocessor.fit_pipeline(X_train)"
   ]
  },
  {
   "cell_type": "markdown",
   "id": "56acd18a-0479-4fcd-97a2-a43bb13b9843",
   "metadata": {},
   "source": [
    "#### You can now return the pipeline to be used later"
   ]
  },
  {
   "cell_type": "code",
   "execution_count": 11,
   "id": "a93f4da7-770e-45e5-b861-db729a4d147c",
   "metadata": {},
   "outputs": [
    {
     "data": {
      "text/html": [
       "<style>#sk-container-id-1 {color: black;background-color: white;}#sk-container-id-1 pre{padding: 0;}#sk-container-id-1 div.sk-toggleable {background-color: white;}#sk-container-id-1 label.sk-toggleable__label {cursor: pointer;display: block;width: 100%;margin-bottom: 0;padding: 0.3em;box-sizing: border-box;text-align: center;}#sk-container-id-1 label.sk-toggleable__label-arrow:before {content: \"▸\";float: left;margin-right: 0.25em;color: #696969;}#sk-container-id-1 label.sk-toggleable__label-arrow:hover:before {color: black;}#sk-container-id-1 div.sk-estimator:hover label.sk-toggleable__label-arrow:before {color: black;}#sk-container-id-1 div.sk-toggleable__content {max-height: 0;max-width: 0;overflow: hidden;text-align: left;background-color: #f0f8ff;}#sk-container-id-1 div.sk-toggleable__content pre {margin: 0.2em;color: black;border-radius: 0.25em;background-color: #f0f8ff;}#sk-container-id-1 input.sk-toggleable__control:checked~div.sk-toggleable__content {max-height: 200px;max-width: 100%;overflow: auto;}#sk-container-id-1 input.sk-toggleable__control:checked~label.sk-toggleable__label-arrow:before {content: \"▾\";}#sk-container-id-1 div.sk-estimator input.sk-toggleable__control:checked~label.sk-toggleable__label {background-color: #d4ebff;}#sk-container-id-1 div.sk-label input.sk-toggleable__control:checked~label.sk-toggleable__label {background-color: #d4ebff;}#sk-container-id-1 input.sk-hidden--visually {border: 0;clip: rect(1px 1px 1px 1px);clip: rect(1px, 1px, 1px, 1px);height: 1px;margin: -1px;overflow: hidden;padding: 0;position: absolute;width: 1px;}#sk-container-id-1 div.sk-estimator {font-family: monospace;background-color: #f0f8ff;border: 1px dotted black;border-radius: 0.25em;box-sizing: border-box;margin-bottom: 0.5em;}#sk-container-id-1 div.sk-estimator:hover {background-color: #d4ebff;}#sk-container-id-1 div.sk-parallel-item::after {content: \"\";width: 100%;border-bottom: 1px solid gray;flex-grow: 1;}#sk-container-id-1 div.sk-label:hover label.sk-toggleable__label {background-color: #d4ebff;}#sk-container-id-1 div.sk-serial::before {content: \"\";position: absolute;border-left: 1px solid gray;box-sizing: border-box;top: 0;bottom: 0;left: 50%;z-index: 0;}#sk-container-id-1 div.sk-serial {display: flex;flex-direction: column;align-items: center;background-color: white;padding-right: 0.2em;padding-left: 0.2em;position: relative;}#sk-container-id-1 div.sk-item {position: relative;z-index: 1;}#sk-container-id-1 div.sk-parallel {display: flex;align-items: stretch;justify-content: center;background-color: white;position: relative;}#sk-container-id-1 div.sk-item::before, #sk-container-id-1 div.sk-parallel-item::before {content: \"\";position: absolute;border-left: 1px solid gray;box-sizing: border-box;top: 0;bottom: 0;left: 50%;z-index: -1;}#sk-container-id-1 div.sk-parallel-item {display: flex;flex-direction: column;z-index: 1;position: relative;background-color: white;}#sk-container-id-1 div.sk-parallel-item:first-child::after {align-self: flex-end;width: 50%;}#sk-container-id-1 div.sk-parallel-item:last-child::after {align-self: flex-start;width: 50%;}#sk-container-id-1 div.sk-parallel-item:only-child::after {width: 0;}#sk-container-id-1 div.sk-dashed-wrapped {border: 1px dashed gray;margin: 0 0.4em 0.5em 0.4em;box-sizing: border-box;padding-bottom: 0.4em;background-color: white;}#sk-container-id-1 div.sk-label label {font-family: monospace;font-weight: bold;display: inline-block;line-height: 1.2em;}#sk-container-id-1 div.sk-label-container {text-align: center;}#sk-container-id-1 div.sk-container {/* jupyter's `normalize.less` sets `[hidden] { display: none; }` but bootstrap.min.css set `[hidden] { display: none !important; }` so we also need the `!important` here to be able to override the default hidden behavior on the sphinx rendered scikit-learn.org. See: https://github.com/scikit-learn/scikit-learn/issues/21755 */display: inline-block !important;position: relative;}#sk-container-id-1 div.sk-text-repr-fallback {display: none;}</style><div id=\"sk-container-id-1\" class=\"sk-top-container\"><div class=\"sk-text-repr-fallback\"><pre>Pipeline(steps=[(&#x27;numeric_capping&#x27;,\n",
       "                 CappingTransformer(capping_values={&#x27;bill_depth_mm&#x27;: [14.2,\n",
       "                                                                      19.5],\n",
       "                                                    &#x27;bill_length_mm&#x27;: [36.5,\n",
       "                                                                       51.01],\n",
       "                                                    &#x27;body_mass_g&#x27;: [3245.0,\n",
       "                                                                    5355.0],\n",
       "                                                    &#x27;flipper_length_mm&#x27;: [185.0,\n",
       "                                                                          220.0]},\n",
       "                                    quantiles={&#x27;bill_depth_mm&#x27;: [0.1, 0.9],\n",
       "                                               &#x27;bill_length_mm&#x27;: [0.1, 0.9],\n",
       "                                               &#x27;body_mass_g&#x27;: [0.1, 0.9],\n",
       "                                               &#x27;flipper_length_mm&#x27;: [0.1,\n",
       "                                                                     0.9]})),\n",
       "                (&#x27;numeric_imputation&#x27;,\n",
       "                 MeanImputer(co...\n",
       "                 ColumnTransformer(remainder=&#x27;passthrough&#x27;, sparse_threshold=0,\n",
       "                                   transformers=[(&#x27;box&#x27;,\n",
       "                                                  PowerTransformer(method=&#x27;box-cox&#x27;),\n",
       "                                                  [&#x27;flipper_length_mm&#x27;])],\n",
       "                                   verbose_feature_names_out=False)),\n",
       "                (&#x27;minmax&#x27;,\n",
       "                 ColumnTransformer(remainder=&#x27;passthrough&#x27;, sparse_threshold=0,\n",
       "                                   transformers=[(&#x27;min_max_ct&#x27;, MinMaxScaler(),\n",
       "                                                  [&#x27;bill_length_mm&#x27;,\n",
       "                                                   &#x27;bill_depth_mm&#x27;,\n",
       "                                                   &#x27;flipper_length_mm&#x27;,\n",
       "                                                   &#x27;body_mass_g&#x27;])],\n",
       "                                   verbose_feature_names_out=False))],\n",
       "         verbose=True)</pre><b>In a Jupyter environment, please rerun this cell to show the HTML representation or trust the notebook. <br />On GitHub, the HTML representation is unable to render, please try loading this page with nbviewer.org.</b></div><div class=\"sk-container\" hidden><div class=\"sk-item sk-dashed-wrapped\"><div class=\"sk-label-container\"><div class=\"sk-label sk-toggleable\"><input class=\"sk-toggleable__control sk-hidden--visually\" id=\"sk-estimator-id-1\" type=\"checkbox\" ><label for=\"sk-estimator-id-1\" class=\"sk-toggleable__label sk-toggleable__label-arrow\">Pipeline</label><div class=\"sk-toggleable__content\"><pre>Pipeline(steps=[(&#x27;numeric_capping&#x27;,\n",
       "                 CappingTransformer(capping_values={&#x27;bill_depth_mm&#x27;: [14.2,\n",
       "                                                                      19.5],\n",
       "                                                    &#x27;bill_length_mm&#x27;: [36.5,\n",
       "                                                                       51.01],\n",
       "                                                    &#x27;body_mass_g&#x27;: [3245.0,\n",
       "                                                                    5355.0],\n",
       "                                                    &#x27;flipper_length_mm&#x27;: [185.0,\n",
       "                                                                          220.0]},\n",
       "                                    quantiles={&#x27;bill_depth_mm&#x27;: [0.1, 0.9],\n",
       "                                               &#x27;bill_length_mm&#x27;: [0.1, 0.9],\n",
       "                                               &#x27;body_mass_g&#x27;: [0.1, 0.9],\n",
       "                                               &#x27;flipper_length_mm&#x27;: [0.1,\n",
       "                                                                     0.9]})),\n",
       "                (&#x27;numeric_imputation&#x27;,\n",
       "                 MeanImputer(co...\n",
       "                 ColumnTransformer(remainder=&#x27;passthrough&#x27;, sparse_threshold=0,\n",
       "                                   transformers=[(&#x27;box&#x27;,\n",
       "                                                  PowerTransformer(method=&#x27;box-cox&#x27;),\n",
       "                                                  [&#x27;flipper_length_mm&#x27;])],\n",
       "                                   verbose_feature_names_out=False)),\n",
       "                (&#x27;minmax&#x27;,\n",
       "                 ColumnTransformer(remainder=&#x27;passthrough&#x27;, sparse_threshold=0,\n",
       "                                   transformers=[(&#x27;min_max_ct&#x27;, MinMaxScaler(),\n",
       "                                                  [&#x27;bill_length_mm&#x27;,\n",
       "                                                   &#x27;bill_depth_mm&#x27;,\n",
       "                                                   &#x27;flipper_length_mm&#x27;,\n",
       "                                                   &#x27;body_mass_g&#x27;])],\n",
       "                                   verbose_feature_names_out=False))],\n",
       "         verbose=True)</pre></div></div></div><div class=\"sk-serial\"><div class=\"sk-item\"><div class=\"sk-estimator sk-toggleable\"><input class=\"sk-toggleable__control sk-hidden--visually\" id=\"sk-estimator-id-2\" type=\"checkbox\" ><label for=\"sk-estimator-id-2\" class=\"sk-toggleable__label sk-toggleable__label-arrow\">CappingTransformer</label><div class=\"sk-toggleable__content\"><pre>CappingTransformer(capping_values={&#x27;bill_depth_mm&#x27;: [14.2, 19.5],\n",
       "                                   &#x27;bill_length_mm&#x27;: [36.5, 51.01],\n",
       "                                   &#x27;body_mass_g&#x27;: [3245.0, 5355.0],\n",
       "                                   &#x27;flipper_length_mm&#x27;: [185.0, 220.0]},\n",
       "                   quantiles={&#x27;bill_depth_mm&#x27;: [0.1, 0.9],\n",
       "                              &#x27;bill_length_mm&#x27;: [0.1, 0.9],\n",
       "                              &#x27;body_mass_g&#x27;: [0.1, 0.9],\n",
       "                              &#x27;flipper_length_mm&#x27;: [0.1, 0.9]})</pre></div></div></div><div class=\"sk-item\"><div class=\"sk-estimator sk-toggleable\"><input class=\"sk-toggleable__control sk-hidden--visually\" id=\"sk-estimator-id-3\" type=\"checkbox\" ><label for=\"sk-estimator-id-3\" class=\"sk-toggleable__label sk-toggleable__label-arrow\">MeanImputer</label><div class=\"sk-toggleable__content\"><pre>MeanImputer(columns=[&#x27;bill_length_mm&#x27;, &#x27;bill_depth_mm&#x27;, &#x27;flipper_length_mm&#x27;,\n",
       "                     &#x27;body_mass_g&#x27;])</pre></div></div></div><div class=\"sk-item\"><div class=\"sk-estimator sk-toggleable\"><input class=\"sk-toggleable__control sk-hidden--visually\" id=\"sk-estimator-id-4\" type=\"checkbox\" ><label for=\"sk-estimator-id-4\" class=\"sk-toggleable__label sk-toggleable__label-arrow\">ArbitraryImputer</label><div class=\"sk-toggleable__content\"><pre>ArbitraryImputer(columns=[&#x27;island&#x27;, &#x27;sex&#x27;], impute_value=&#x27;missing&#x27;)</pre></div></div></div><div class=\"sk-item\"><div class=\"sk-estimator sk-toggleable\"><input class=\"sk-toggleable__control sk-hidden--visually\" id=\"sk-estimator-id-5\" type=\"checkbox\" ><label for=\"sk-estimator-id-5\" class=\"sk-toggleable__label sk-toggleable__label-arrow\">GroupRareLevelsTransformer</label><div class=\"sk-toggleable__content\"><pre>GroupRareLevelsTransformer(columns=[&#x27;island&#x27;, &#x27;sex&#x27;], cut_off_percent=0.1)</pre></div></div></div><div class=\"sk-item\"><div class=\"sk-estimator sk-toggleable\"><input class=\"sk-toggleable__control sk-hidden--visually\" id=\"sk-estimator-id-6\" type=\"checkbox\" ><label for=\"sk-estimator-id-6\" class=\"sk-toggleable__label sk-toggleable__label-arrow\">NominalToIntegerTransformer</label><div class=\"sk-toggleable__content\"><pre>NominalToIntegerTransformer(columns=[&#x27;island&#x27;, &#x27;sex&#x27;])</pre></div></div></div><div class=\"sk-item sk-dashed-wrapped\"><div class=\"sk-label-container\"><div class=\"sk-label sk-toggleable\"><input class=\"sk-toggleable__control sk-hidden--visually\" id=\"sk-estimator-id-7\" type=\"checkbox\" ><label for=\"sk-estimator-id-7\" class=\"sk-toggleable__label sk-toggleable__label-arrow\">float transformers: ColumnTransformer</label><div class=\"sk-toggleable__content\"><pre>ColumnTransformer(remainder=&#x27;passthrough&#x27;, sparse_threshold=0,\n",
       "                  transformers=[(&#x27;box&#x27;, PowerTransformer(method=&#x27;box-cox&#x27;),\n",
       "                                 [&#x27;flipper_length_mm&#x27;])],\n",
       "                  verbose_feature_names_out=False)</pre></div></div></div><div class=\"sk-parallel\"><div class=\"sk-parallel-item\"><div class=\"sk-item\"><div class=\"sk-label-container\"><div class=\"sk-label sk-toggleable\"><input class=\"sk-toggleable__control sk-hidden--visually\" id=\"sk-estimator-id-8\" type=\"checkbox\" ><label for=\"sk-estimator-id-8\" class=\"sk-toggleable__label sk-toggleable__label-arrow\">box</label><div class=\"sk-toggleable__content\"><pre>[&#x27;flipper_length_mm&#x27;]</pre></div></div></div><div class=\"sk-serial\"><div class=\"sk-item\"><div class=\"sk-estimator sk-toggleable\"><input class=\"sk-toggleable__control sk-hidden--visually\" id=\"sk-estimator-id-9\" type=\"checkbox\" ><label for=\"sk-estimator-id-9\" class=\"sk-toggleable__label sk-toggleable__label-arrow\">PowerTransformer</label><div class=\"sk-toggleable__content\"><pre>PowerTransformer(method=&#x27;box-cox&#x27;)</pre></div></div></div></div></div></div><div class=\"sk-parallel-item\"><div class=\"sk-item\"><div class=\"sk-label-container\"><div class=\"sk-label sk-toggleable\"><input class=\"sk-toggleable__control sk-hidden--visually\" id=\"sk-estimator-id-10\" type=\"checkbox\" ><label for=\"sk-estimator-id-10\" class=\"sk-toggleable__label sk-toggleable__label-arrow\">remainder</label><div class=\"sk-toggleable__content\"><pre>[&#x27;bill_length_mm&#x27;, &#x27;bill_depth_mm&#x27;, &#x27;body_mass_g&#x27;, &#x27;island&#x27;, &#x27;sex&#x27;]</pre></div></div></div><div class=\"sk-serial\"><div class=\"sk-item\"><div class=\"sk-estimator sk-toggleable\"><input class=\"sk-toggleable__control sk-hidden--visually\" id=\"sk-estimator-id-11\" type=\"checkbox\" ><label for=\"sk-estimator-id-11\" class=\"sk-toggleable__label sk-toggleable__label-arrow\">passthrough</label><div class=\"sk-toggleable__content\"><pre>passthrough</pre></div></div></div></div></div></div></div></div><div class=\"sk-item sk-dashed-wrapped\"><div class=\"sk-label-container\"><div class=\"sk-label sk-toggleable\"><input class=\"sk-toggleable__control sk-hidden--visually\" id=\"sk-estimator-id-12\" type=\"checkbox\" ><label for=\"sk-estimator-id-12\" class=\"sk-toggleable__label sk-toggleable__label-arrow\">minmax: ColumnTransformer</label><div class=\"sk-toggleable__content\"><pre>ColumnTransformer(remainder=&#x27;passthrough&#x27;, sparse_threshold=0,\n",
       "                  transformers=[(&#x27;min_max_ct&#x27;, MinMaxScaler(),\n",
       "                                 [&#x27;bill_length_mm&#x27;, &#x27;bill_depth_mm&#x27;,\n",
       "                                  &#x27;flipper_length_mm&#x27;, &#x27;body_mass_g&#x27;])],\n",
       "                  verbose_feature_names_out=False)</pre></div></div></div><div class=\"sk-parallel\"><div class=\"sk-parallel-item\"><div class=\"sk-item\"><div class=\"sk-label-container\"><div class=\"sk-label sk-toggleable\"><input class=\"sk-toggleable__control sk-hidden--visually\" id=\"sk-estimator-id-13\" type=\"checkbox\" ><label for=\"sk-estimator-id-13\" class=\"sk-toggleable__label sk-toggleable__label-arrow\">min_max_ct</label><div class=\"sk-toggleable__content\"><pre>[&#x27;bill_length_mm&#x27;, &#x27;bill_depth_mm&#x27;, &#x27;flipper_length_mm&#x27;, &#x27;body_mass_g&#x27;]</pre></div></div></div><div class=\"sk-serial\"><div class=\"sk-item\"><div class=\"sk-estimator sk-toggleable\"><input class=\"sk-toggleable__control sk-hidden--visually\" id=\"sk-estimator-id-14\" type=\"checkbox\" ><label for=\"sk-estimator-id-14\" class=\"sk-toggleable__label sk-toggleable__label-arrow\">MinMaxScaler</label><div class=\"sk-toggleable__content\"><pre>MinMaxScaler()</pre></div></div></div></div></div></div><div class=\"sk-parallel-item\"><div class=\"sk-item\"><div class=\"sk-label-container\"><div class=\"sk-label sk-toggleable\"><input class=\"sk-toggleable__control sk-hidden--visually\" id=\"sk-estimator-id-15\" type=\"checkbox\" ><label for=\"sk-estimator-id-15\" class=\"sk-toggleable__label sk-toggleable__label-arrow\">remainder</label><div class=\"sk-toggleable__content\"><pre>[&#x27;island&#x27;, &#x27;sex&#x27;]</pre></div></div></div><div class=\"sk-serial\"><div class=\"sk-item\"><div class=\"sk-estimator sk-toggleable\"><input class=\"sk-toggleable__control sk-hidden--visually\" id=\"sk-estimator-id-16\" type=\"checkbox\" ><label for=\"sk-estimator-id-16\" class=\"sk-toggleable__label sk-toggleable__label-arrow\">passthrough</label><div class=\"sk-toggleable__content\"><pre>passthrough</pre></div></div></div></div></div></div></div></div></div></div></div></div>"
      ],
      "text/plain": [
       "Pipeline(steps=[('numeric_capping',\n",
       "                 CappingTransformer(capping_values={'bill_depth_mm': [14.2,\n",
       "                                                                      19.5],\n",
       "                                                    'bill_length_mm': [36.5,\n",
       "                                                                       51.01],\n",
       "                                                    'body_mass_g': [3245.0,\n",
       "                                                                    5355.0],\n",
       "                                                    'flipper_length_mm': [185.0,\n",
       "                                                                          220.0]},\n",
       "                                    quantiles={'bill_depth_mm': [0.1, 0.9],\n",
       "                                               'bill_length_mm': [0.1, 0.9],\n",
       "                                               'body_mass_g': [0.1, 0.9],\n",
       "                                               'flipper_length_mm': [0.1,\n",
       "                                                                     0.9]})),\n",
       "                ('numeric_imputation',\n",
       "                 MeanImputer(co...\n",
       "                 ColumnTransformer(remainder='passthrough', sparse_threshold=0,\n",
       "                                   transformers=[('box',\n",
       "                                                  PowerTransformer(method='box-cox'),\n",
       "                                                  ['flipper_length_mm'])],\n",
       "                                   verbose_feature_names_out=False)),\n",
       "                ('minmax',\n",
       "                 ColumnTransformer(remainder='passthrough', sparse_threshold=0,\n",
       "                                   transformers=[('min_max_ct', MinMaxScaler(),\n",
       "                                                  ['bill_length_mm',\n",
       "                                                   'bill_depth_mm',\n",
       "                                                   'flipper_length_mm',\n",
       "                                                   'body_mass_g'])],\n",
       "                                   verbose_feature_names_out=False))],\n",
       "         verbose=True)"
      ]
     },
     "execution_count": 11,
     "metadata": {},
     "output_type": "execute_result"
    }
   ],
   "source": [
    "my_pipe = preprocessor.return_pipeline()\n",
    "my_pipe"
   ]
  },
  {
   "cell_type": "markdown",
   "id": "49c04a54-eed9-4dff-9143-12a112983ba5",
   "metadata": {},
   "source": [
    "#### You can also use a fitted pipeline to transform new data.\n",
    "\n",
    "Again, you don't have to clean up the dataframe, you've decided what columns you want to keep and as long as all of those columns are present in your new dataframe it will transform the data"
   ]
  },
  {
   "cell_type": "code",
   "execution_count": 12,
   "id": "83abddab-7d1c-4510-9d05-34d9e0f1fedc",
   "metadata": {},
   "outputs": [
    {
     "data": {
      "text/html": [
       "<div>\n",
       "<style scoped>\n",
       "    .dataframe tbody tr th:only-of-type {\n",
       "        vertical-align: middle;\n",
       "    }\n",
       "\n",
       "    .dataframe tbody tr th {\n",
       "        vertical-align: top;\n",
       "    }\n",
       "\n",
       "    .dataframe thead th {\n",
       "        text-align: right;\n",
       "    }\n",
       "</style>\n",
       "<table border=\"1\" class=\"dataframe\">\n",
       "  <thead>\n",
       "    <tr style=\"text-align: right;\">\n",
       "      <th></th>\n",
       "      <th>bill_length_mm</th>\n",
       "      <th>bill_depth_mm</th>\n",
       "      <th>flipper_length_mm</th>\n",
       "      <th>body_mass_g</th>\n",
       "      <th>island</th>\n",
       "      <th>sex</th>\n",
       "    </tr>\n",
       "  </thead>\n",
       "  <tbody>\n",
       "    <tr>\n",
       "      <th>194</th>\n",
       "      <td>0.992419</td>\n",
       "      <td>0.924528</td>\n",
       "      <td>0.380417</td>\n",
       "      <td>0.144550</td>\n",
       "      <td>2</td>\n",
       "      <td>1</td>\n",
       "    </tr>\n",
       "    <tr>\n",
       "      <th>157</th>\n",
       "      <td>0.599586</td>\n",
       "      <td>0.679245</td>\n",
       "      <td>0.442008</td>\n",
       "      <td>0.334123</td>\n",
       "      <td>2</td>\n",
       "      <td>0</td>\n",
       "    </tr>\n",
       "    <tr>\n",
       "      <th>225</th>\n",
       "      <td>0.689180</td>\n",
       "      <td>0.000000</td>\n",
       "      <td>0.770900</td>\n",
       "      <td>0.618483</td>\n",
       "      <td>1</td>\n",
       "      <td>0</td>\n",
       "    </tr>\n",
       "    <tr>\n",
       "      <th>208</th>\n",
       "      <td>0.599586</td>\n",
       "      <td>0.452830</td>\n",
       "      <td>0.216713</td>\n",
       "      <td>0.002370</td>\n",
       "      <td>2</td>\n",
       "      <td>0</td>\n",
       "    </tr>\n",
       "    <tr>\n",
       "      <th>318</th>\n",
       "      <td>0.820124</td>\n",
       "      <td>0.037736</td>\n",
       "      <td>0.587089</td>\n",
       "      <td>0.654028</td>\n",
       "      <td>1</td>\n",
       "      <td>0</td>\n",
       "    </tr>\n",
       "    <tr>\n",
       "      <th>...</th>\n",
       "      <td>...</td>\n",
       "      <td>...</td>\n",
       "      <td>...</td>\n",
       "      <td>...</td>\n",
       "      <td>...</td>\n",
       "      <td>...</td>\n",
       "    </tr>\n",
       "    <tr>\n",
       "      <th>126</th>\n",
       "      <td>0.158511</td>\n",
       "      <td>0.641509</td>\n",
       "      <td>0.216713</td>\n",
       "      <td>0.014218</td>\n",
       "      <td>0</td>\n",
       "      <td>0</td>\n",
       "    </tr>\n",
       "    <tr>\n",
       "      <th>282</th>\n",
       "      <td>0.634045</td>\n",
       "      <td>0.000000</td>\n",
       "      <td>0.866913</td>\n",
       "      <td>0.547393</td>\n",
       "      <td>1</td>\n",
       "      <td>0</td>\n",
       "    </tr>\n",
       "    <tr>\n",
       "      <th>59</th>\n",
       "      <td>0.075810</td>\n",
       "      <td>0.924528</td>\n",
       "      <td>0.316654</td>\n",
       "      <td>0.239336</td>\n",
       "      <td>1</td>\n",
       "      <td>1</td>\n",
       "    </tr>\n",
       "    <tr>\n",
       "      <th>111</th>\n",
       "      <td>0.627154</td>\n",
       "      <td>1.000000</td>\n",
       "      <td>0.216713</td>\n",
       "      <td>0.642180</td>\n",
       "      <td>1</td>\n",
       "      <td>1</td>\n",
       "    </tr>\n",
       "    <tr>\n",
       "      <th>197</th>\n",
       "      <td>0.985527</td>\n",
       "      <td>0.811321</td>\n",
       "      <td>0.530526</td>\n",
       "      <td>0.571090</td>\n",
       "      <td>2</td>\n",
       "      <td>1</td>\n",
       "    </tr>\n",
       "  </tbody>\n",
       "</table>\n",
       "<p>114 rows × 6 columns</p>\n",
       "</div>"
      ],
      "text/plain": [
       "     bill_length_mm  bill_depth_mm  flipper_length_mm  body_mass_g  island  \\\n",
       "194        0.992419       0.924528           0.380417     0.144550       2   \n",
       "157        0.599586       0.679245           0.442008     0.334123       2   \n",
       "225        0.689180       0.000000           0.770900     0.618483       1   \n",
       "208        0.599586       0.452830           0.216713     0.002370       2   \n",
       "318        0.820124       0.037736           0.587089     0.654028       1   \n",
       "..              ...            ...                ...          ...     ...   \n",
       "126        0.158511       0.641509           0.216713     0.014218       0   \n",
       "282        0.634045       0.000000           0.866913     0.547393       1   \n",
       "59         0.075810       0.924528           0.316654     0.239336       1   \n",
       "111        0.627154       1.000000           0.216713     0.642180       1   \n",
       "197        0.985527       0.811321           0.530526     0.571090       2   \n",
       "\n",
       "     sex  \n",
       "194    1  \n",
       "157    0  \n",
       "225    0  \n",
       "208    0  \n",
       "318    0  \n",
       "..   ...  \n",
       "126    0  \n",
       "282    0  \n",
       "59     1  \n",
       "111    1  \n",
       "197    1  \n",
       "\n",
       "[114 rows x 6 columns]"
      ]
     },
     "execution_count": 12,
     "metadata": {},
     "output_type": "execute_result"
    }
   ],
   "source": [
    "transform_test_df = preprocessor.transform_new_data(X_test)\n",
    "transform_test_df"
   ]
  },
  {
   "cell_type": "markdown",
   "id": "cd525de8-c4a7-4e3c-89f1-6ddad873dda6",
   "metadata": {},
   "source": [
    "#### Finally, you can save the fitted preprocessor in a pickle file to be loaded later"
   ]
  },
  {
   "cell_type": "code",
   "execution_count": null,
   "id": "f5f5460b-7ae4-4f06-8c61-5ea212555205",
   "metadata": {},
   "outputs": [],
   "source": [
    "# to save fitted class as pickle\n",
    "with open('my_preprocesser.pkl', 'wb') as file:\n",
    "    pickle.dump(preprocessor, file)\n",
    "    \n",
    "# to load pickled preprocessor later\n",
    "with open('my_preprocesser.pkl', 'rb') as file:\n",
    "    preprocessor = pickle.load(file)"
   ]
  }
 ],
 "metadata": {
  "kernelspec": {
   "display_name": "Python 3 (ipykernel)",
   "language": "python",
   "name": "python3"
  },
  "language_info": {
   "codemirror_mode": {
    "name": "ipython",
    "version": 3
   },
   "file_extension": ".py",
   "mimetype": "text/x-python",
   "name": "python",
   "nbconvert_exporter": "python",
   "pygments_lexer": "ipython3",
   "version": "3.10.4"
  }
 },
 "nbformat": 4,
 "nbformat_minor": 5
}
